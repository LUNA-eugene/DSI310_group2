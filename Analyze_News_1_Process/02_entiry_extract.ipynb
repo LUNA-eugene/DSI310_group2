{
 "cells": [
  {
   "cell_type": "markdown",
   "id": "6fccd0e3",
   "metadata": {},
   "source": [
    "# 02_entiry-extract\n",
    "* entity extraction from news description using trasnformer Davlan/xlm-roberta-base-ner-hrl"
   ]
  },
  {
   "cell_type": "markdown",
   "id": "bd2da203",
   "metadata": {},
   "source": [
    "### install extra library"
   ]
  },
  {
   "cell_type": "code",
   "execution_count": 8,
   "id": "0531c7cf",
   "metadata": {},
   "outputs": [
    {
     "name": "stdout",
     "output_type": "stream",
     "text": [
      "Requirement already satisfied: transformers in /opt/conda/lib/python3.10/site-packages (4.23.1)\n",
      "Requirement already satisfied: torch in /opt/conda/lib/python3.10/site-packages (1.12.1)\n",
      "Requirement already satisfied: regex!=2019.12.17 in /opt/conda/lib/python3.10/site-packages (from transformers) (2022.9.13)\n",
      "Requirement already satisfied: pyyaml>=5.1 in /opt/conda/lib/python3.10/site-packages (from transformers) (6.0)\n",
      "Requirement already satisfied: filelock in /opt/conda/lib/python3.10/site-packages (from transformers) (3.8.0)\n",
      "Requirement already satisfied: numpy>=1.17 in /opt/conda/lib/python3.10/site-packages (from transformers) (1.22.4)\n",
      "Requirement already satisfied: requests in /opt/conda/lib/python3.10/site-packages (from transformers) (2.28.1)\n",
      "Requirement already satisfied: packaging>=20.0 in /opt/conda/lib/python3.10/site-packages (from transformers) (21.3)\n",
      "Requirement already satisfied: tokenizers!=0.11.3,<0.14,>=0.11.1 in /opt/conda/lib/python3.10/site-packages (from transformers) (0.13.1)\n",
      "Requirement already satisfied: huggingface-hub<1.0,>=0.10.0 in /opt/conda/lib/python3.10/site-packages (from transformers) (0.10.1)\n",
      "Requirement already satisfied: tqdm>=4.27 in /opt/conda/lib/python3.10/site-packages (from transformers) (4.64.0)\n",
      "Requirement already satisfied: typing-extensions in /opt/conda/lib/python3.10/site-packages (from torch) (4.3.0)\n",
      "Requirement already satisfied: pyparsing!=3.0.5,>=2.0.2 in /opt/conda/lib/python3.10/site-packages (from packaging>=20.0->transformers) (3.0.9)\n",
      "Requirement already satisfied: certifi>=2017.4.17 in /opt/conda/lib/python3.10/site-packages (from requests->transformers) (2022.6.15)\n",
      "Requirement already satisfied: urllib3<1.27,>=1.21.1 in /opt/conda/lib/python3.10/site-packages (from requests->transformers) (1.26.11)\n",
      "Requirement already satisfied: idna<4,>=2.5 in /opt/conda/lib/python3.10/site-packages (from requests->transformers) (3.3)\n",
      "Requirement already satisfied: charset-normalizer<3,>=2 in /opt/conda/lib/python3.10/site-packages (from requests->transformers) (2.1.0)\n",
      "Requirement already satisfied: sentencepiece in /opt/conda/lib/python3.10/site-packages (0.1.97)\n"
     ]
    }
   ],
   "source": [
    "!pip install transformers torch\n",
    "!pip install sentencepiece"
   ]
  },
  {
   "cell_type": "markdown",
   "id": "f11932e7",
   "metadata": {},
   "source": [
    "### read stored data from DataPlatform"
   ]
  },
  {
   "cell_type": "code",
   "execution_count": 9,
   "id": "91cd9c9b",
   "metadata": {},
   "outputs": [],
   "source": [
    "from dsmlibrary.datanode import DataNode\n",
    "import json\n",
    "from tqdm.auto import tqdm\n",
    "import pandas as pd"
   ]
  },
  {
   "cell_type": "code",
   "execution_count": 10,
   "id": "3a3862cc",
   "metadata": {},
   "outputs": [],
   "source": [
    "dir_raw_id = 43\n",
    "dir_process_id = 44"
   ]
  },
  {
   "cell_type": "code",
   "execution_count": 11,
   "id": "8f61bf9d",
   "metadata": {},
   "outputs": [
    {
     "name": "stdout",
     "output_type": "stream",
     "text": [
      "Init DataNode sucessful!\n"
     ]
    }
   ],
   "source": [
    "datanode = DataNode()"
   ]
  },
  {
   "cell_type": "code",
   "execution_count": 31,
   "id": "1393f5c6",
   "metadata": {},
   "outputs": [
    {
     "data": {
      "text/plain": [
       "{'owner': 'thanutchapon',\n",
       " 'human_size': '50.81 KB',\n",
       " 'name': 'news.json',\n",
       " 'description': 'file news.json',\n",
       " 'directory': 43,\n",
       " 'path': 'thanutchapon/DSI310-02/rawData/news.json'}"
      ]
     },
     "execution_count": 31,
     "metadata": {},
     "output_type": "execute_result"
    }
   ],
   "source": [
    "meta, fp = datanode.get_file(datanode.get_file_id(directory_id=dir_raw_id, name='news.json'))\n",
    "meta"
   ]
  },
  {
   "cell_type": "code",
   "execution_count": 32,
   "id": "babf3c0c",
   "metadata": {},
   "outputs": [
    {
     "data": {
      "text/plain": [
       "[{'title': 'กทม. ค้นหาเด็กยากจนพิเศษ รับทุนการศึกษาจาก กสศ. ป้องกันไม่ให้เด็กหลุดออกจากระบบ ตั้งเป้า 5 พันคน',\n",
       "  'detail': 'วานนี้ (6 กันยายน) ที่ชุมชนโรงหวาย เขตสวนหลวง ศานนท์ หวังสร้างบุญ รองผู้ว่าราชการกรุงเทพมหานคร พร้อมด้วย ไกรยส ภัทราวาท ผู้จัดการกองทุนเพื่อความเสมอภาคทางการศึกษา (กสศ.) ปิยะวรรณ จระกา สมาชิกสภากรุงเทพมหานคร (ส.ก.) เขตสวนหลวง ผู้บริหารสำนักการศึกษา และผู้เกี่ยวข้องร่วมลงพื้นที่เพื่อค้นหาเด็กยากจนพิเศษในชุมชนที่มีความเสี่ยงหลุดจากระบบการศึกษา เพื่อล...',\n",
       "  'DATE': '2022-07-09'},\n",
       " {'title': 'เด็กทุกคนต้องได้เรียน! ‘แสนสิริ’ ออกหุ้นกู้ 100 ล้านบาท สนับสนุนกองทุนเพื่อความเสมอภาคทางการศึกษา นำร่องที่ จ.ราชบุรี ตั้งเป้าเด็กหลุดจากระบบการศึกษาเป็น ‘ศูนย์’ ภายใน 3 ปี',\n",
       "  'detail': 'ในปี 2565 ‘แสนสิริ’ มีพันธกิจใหญ่ โดยมีเป้าหมายในการสนับสนุนกองทุนเพื่อความเสมอภาคทางการศึกษา หรือ กสศ. โดยมีความตั้งใจที่จะ ‘สร้างความเสมอภาค และลดความเหลื่อมล้ำด้านการศึกษา’ ด้วยการประกาศพันธกิจในโครงการ ‘Zero Dropout เด็กทุกคนต้องได้เรียน’ วางแผนพัฒนาคุณภาพการศึกษาไทยอย่างยั่งยืน ระยะยาว 3 ปี\\xa0\\n\\xa0\\nโดยแสนสิริเตรียมออกหุ้นกู้เพื่อระด...',\n",
       "  'DATE': '2022-03-02'},\n",
       " {'title': 'เจาะข้อมูล ‘เด็กหลุดจากระบบการศึกษา’ เมื่อป้ายผ้าและการแขวนคอสะท้อนปัญหาที่รุมเร้าเด็กไทย',\n",
       "  'detail': 'กลายเป็นภาพที่ถูกแชร์กันในโลกออนไลน์เป็นวงกว้าง สำหรับการทำกิจกรรมเชิงสัญลักษณ์ของกลุ่ม ‘นักเรียนเลว’ ในการชุมนุมที่แยกอโศกวานนี้ (6 กันยายน) ซึ่งมีการห้อยตัวลงมาจากสกายวอล์กแยกอโศกเพื่อเลียนแบบการแขวนคอในชุดนักเรียน พร้อมป้ายข้อความ ‘เด็ก 1.8 ล้านคน กำลังหลุดจากระบบการศึกษา เพราะการเรียนออนไลน์ที่ไม่เห็นหัวเด็ก’\\n\\xa0\\nแม้การแสดงออกเชิงสัญลั...',\n",
       "  'DATE': '2021-07-09'},\n",
       " {'title': 'ศูนย์นโยบายไทยสร้างไทย จี้รัฐบาลแก้ปัญหาสินค้าเกษตรตกต่ำ ลามเป็นปัญหาครอบครัว กระทบระบบการศึกษา ทำเด็กหลุดออกจากการเรียนหนังสือ',\n",
       "  'detail': 'วันนี้ (9 สิงหาคม) ธิดารัตน์ ยิ่งเจริญ ผู้อำนวยการศูนย์นโยบาย พรรคไทยสร้างไทย กล่าวว่า พิษโควิดกระทบเกษตรกรไทยหลังตลาดกลาง ทั้งตลาดผัก ผลไม้ และดอกไม้รายใหญ่ของประเทศต้องปิดชั่วคราวหลายครั้งที่ผ่านมา เพราะพ่อค้าแม่ค้าติดเชื้อโควิด ส่งผลให้เกษตรกรได้รับผลกระทบโดยตรง อย่างเช่น มังคุดที่ตอนนี้ราคาถูกมาก ลำไยไม่มีพ่อค้ามารับซื้อ เกษตรกรถูกกดราคา ทำให้ค...',\n",
       "  'DATE': '2021-09-08'},\n",
       " {'title': 'Learn to Earn: เผชิญโจทย์โลกยุคใหม่ มุ่งให้การเรียนรู้นำทาง สร้างโอกาสตลอดชีวิต ด้วยแนวคิดมูลนิธิ SCG',\n",
       "  'detail': 'ลำพังการศึกษา (Education) อาจไม่เพียงพอต่อการเอาชีวิตรอดในโลกที่เปลี่ยนแปลงไปอย่างรวดเร็ว การเรียนรู้ตลอดชีวิต (Lifelong Learning) จึงเป็นกุญแจสำคัญในการผลักดันให้คนรุ่นใหม่สามารถดำรงชีวิตได้อย่างมีคุณภาพในศตวรรษที่ 21 และโจทย์ใหญ่ที่คนรุ่นใหม่ต้องเผชิญท่ามกลางสถานการณ์โรคระบาด ภัยธรรมชาติ และความเหลื่อมล้ำทางเศรษฐกิจ\\n\\xa0\\nTHE STANDARD ชวนผ...',\n",
       "  'DATE': '2022-07-14'},\n",
       " {'title': 'ชัชชาติ ลงพื้นที่เขตราษฎร์บูรณะ-ทุ่งครุ เปิดแผนช่วยคนรายได้น้อยในกรุงเทพฯ เข้าถึงบ้านมั่นคง พร้อมย้ำนโยบายพัฒนากรุงเทพฯ 9 มิติ',\n",
       "  'detail': 'วันนี้ (7 เมษายน) ชัชชาติ สิทธิพันธุ์ ผู้สมัครผู้ว่าราชการกรุงเทพมหานคร (ผู้ว่าฯ กทม.) หมายเลข 8 ลงพื้นที่หาเสียงพื้นที่เขตราษฎร์บูรณะ-ทุ่งครุ เยี่ยมชุมชนใต้สะพานโซน 1 ประชาอุทิศ 76 เพื่อพูดคุยถึงปัญหาที่ประชาชนในพื้นที่กำลังเผชิญ และเดินแจกแผ่นพับหาเสียงในรูปแบบหนังสือพิมพ์ให้ประชาชน\\n\\xa0\\n\\xa0\\nหลังจากนั้น ชัชชาติให้สัมภาษณ์กับสื่อ...',\n",
       "  'DATE': '2022-07-04'},\n",
       " {'title': '‘กลุ่มนักเรียนเลว’ แสดงออกเชิงสัญลักษณ์วันครู มอบพานไว้อาลัยระบบการศึกษาให้ตรีนุช เรียกร้องแก้ไขปัญหาให้ตรงจุด',\n",
       "  'detail': 'ช่วงเช้าวันนี้ (16 มกราคม) ที่สำนักงานเลขาธิการคุรุสภา แยกวังแดง ระหว่างที่กระทรวงศึกษาธิการ มีการจัดกิจกรรมงานวันครู ครั้งที่ 66 ประจำปี 2565 ภายใต้แนวคิด ‘พลังครูยุคใหม่ สร้างคุณภาพคนไทยสู่สากล’\\n\\xa0\\nกลุ่มที่เรียกตนเองว่า ‘นักเรียนเลว’ ได้จัดกิจกรรมเชิงสัญลักษณ์เนื่องในวันครูแห่งชาติ และต้องการขอพบ ตรีนุช เทียนทอง รัฐมนตรีว่าการกระทรวงศึก...',\n",
       "  'DATE': '2022-01-16'},\n",
       " {'title': 'กสศ. เปิดผลการดำเนินงาน 2564 พบปัญหาโควิดซ้ำเติมความเหลื่อมล้ำ ทำเด็กยากจนหลุดระบบการศึกษา',\n",
       "  'detail': 'วันที่ 27 ธันวาคม 2564 กองทุนเพื่อความเสมอภาคทางการศึกษา (กสศ.) เปิดเผยผลการดำเนินงาน กสศ. รายงานประชาชน ปี 2564 เข้าถึงและช่วยเหลือ 4 กลุ่มเป้าหมายลดเหลื่อมล้ำมากกว่า 2 ล้านคน ตั้งแต่ปฐมวัยถึงอุดมศึกษา ทั้งทางตรงและทางอ้อมในสถานศึกษามากกว่า 30,000 แห่งทั่วประเทศ และประชากรนอกระบบการศึกษา ผ่านมาตรการบรรเทาความเดือดร้อนเฉพาะหน้า ครัวเรือนยากจนร้อยละ...',\n",
       "  'DATE': '2021-12-28'},\n",
       " {'title': 'มองปัญหาความเหลื่อมล้ำไทยในมุมนักธุรกิจและผู้เชี่ยวชาญ ชี้ความร่วมมือทุกภาคส่วน การแข่งขันที่เป็นธรรม ไม่มุ่งแต่กำไร คือทางออกที่ยั่งยืน',\n",
       "  'detail': '‘ความเหลื่อมล้ำ’ ถือเป็นปัญหาสำคัญของประชาชนไทย โดยเฉพาะในช่วงวิกฤตแพร่ระบาดของโรคโควิดที่เกิดขึ้น ซึ่งมีคนไทยจำนวนมากยังคงยากจน โดย Credit Suisse ประเมินว่า คนรวยที่สุด 10% ของไทยนั้นถือครองสินทรัพย์มากถึงกว่า 77% ของคนทั้งประเทศ\\xa0\\n\\xa0\\nต้นตอของความเหลื่อมล้ำนั้นเกิดจากอะไร และไทยเราจะทำอย่างไรเพื่อแก้ไขปัญหานี้ เป็นคำถามสำคัญที่ถูกหยิ...',\n",
       "  'DATE': '2021-11-28'},\n",
       " {'title': 'สำนักเลขาธิการนายกฯ ยินดีส่งต่อมือถือเก่าผู้บริหาร หลังมูลนิธิกระจกเงาขอรับบริจาคให้เด็กยากไร้ได้เรียนออนไลน์',\n",
       "  'detail': 'จากกรณีมีการเผยแพร่เอกสารสัญญาซื้อขายโทรศัพท์ยี่ห้อ iPhone 12 จำนวน 111 เครื่อง ของสำนักเลขาธิการนายกรัฐมนตรี เป็นงบประมาณกว่า 2,681,355 บาท รวมภาษีมูลค่าเพิ่มตลอดจนภาษีอากรอื่นๆ โดยเป็นงบประมาณของสำนักเลขาธิการนายกรัฐมนตรีที่ใช้ในการจัดซื้อโทรศัพท์มือถือสำหรับผู้บริหารและระดับผู้อำนวยการที่มีความจำเป็นในการใช้งาน ทดแทนโทรศัพท์ของเก่าที่กำลังจะครบร...',\n",
       "  'DATE': '2021-11-24'},\n",
       " {'title': 'เร่งดูแลเยาวชนกลุ่มเปราะบาง ทั้งสุขภาพและทุนเรียนผ่าน ‘กลไกอาสาสมัครคุณภาพ’ และ ‘ทุนสานฝันการศึกษาเพื่อน้อง’ จากความร่วมมือของ ‘กลุ่มธุรกิจ TCP’ และ ‘กสศ.’ [Advertorial]',\n",
       "  'detail': 'ยอดผู้ติดเชื้อโควิดรายวันของไทยที่ ศบค. รายงานยังคงแตะหลักหมื่นต่อเนื่อง บวกกับข้อมูลจากกองทุนเพื่อความเสมอภาคทางการศึกษา (กสศ.) พบว่า มีเด็กติดเชื้อโควิดรายวันสูงสุดประมาณ 2,900 คน จำนวนเด็กติดเชื้อสะสม 107,245 คน (ข้อมูล ณ วันที่ 20 สิงหาคม 2564) และมีแนวโน้มเพิ่มขึ้น\\xa0\\xa0\\xa0\\n\\xa0\\nสิ่งที่น่ากังวลใจคือ ราว 70% ของตัวเลขเป็นกลุ่มย...',\n",
       "  'DATE': '2021-08-27'},\n",
       " {'title': 'พิธาเสนอญัตติด่วนด้วยวาจา ยุบ ศบค.-ปรับ ครม. ทลายทุกคอขวด ก่อนน้ำตาประชาชนจะลุกเป็นไฟ',\n",
       "  'detail': 'วานนี้ (1 กรกฎาคม) พิธา ลิ้มเจริญรัตน์ ส.ส. บัญชีรายชื่อ ในฐานะหัวหน้าพรรคก้าวไกล เสนอญัตติด่วนด้วยวาจา ขอให้สภาพิจารณาและหาแนวทางแก้ไขปัญหาและผลกระทบของโรคติดเชื้อโควิด และเสนอแนะต่อรัฐบาลให้ยกเลิกคำสั่งสำนักนายกรัฐมนตรีที่ 76/2563 ยุบ ศบค. เพื่อมีมติส่งให้รัฐบาลรับไปพิจารณาดำเนินต่อไปจากนั้นจึงได้อภิปรายว่า 90 นาทีต่อหนึ่งคน คือ สถิติการฆ่าตัวตาย...',\n",
       "  'DATE': '2021-02-07'},\n",
       " {'title': 'พิธาชวน ส.ส. โหวตคว่ำร่างงบฯ ปี 65 ทำสาธารณสุข-การศึกษา ได้งบเพิ่มให้ประชาชนทันที',\n",
       "  'detail': 'วันนี้ (2 มิถุนายน) พิธา ลิ้มเจริญรัตน์ ส.ส. บัญชีรายชื่อและหัวหน้าพรรคก้าวไกล อภิปราย พ.ร.บ. ร่างงบประมาณรายจ่ายประจำปี 2565 วาระที่ 1 โดยระบุว่า ขอเริ่มต้นด้วยคำถามว่า ‘ลึกลงไปในใจท่านนั้น’ หลังจากที่ฟังอภิปรายกันมา 3 วัน 3 คืน เชื่อจริงๆ หรือว่างบประมาณ 3.1 ล้านล้านบาทฉบับนี้จะนำพาประชาชนออกจากวิกฤตที่หนักหนาสาหัสนี้ได้จริง ที่ต้องตั้งคำถามอย่าง...',\n",
       "  'DATE': '2021-02-06'},\n",
       " {'title': 'กสศ. ออกมาตรการพิเศษช่วงโควิด-19 ช่วยนักเรียนกลุ่มชั้นรอยต่อ ลดภาวะ ‘ฟางเส้นสุดท้าย’ ทางเศรษฐกิจ ให้เด็กๆ ไม่ต้องออกจากโรงเรียนกลางคัน',\n",
       "  'detail': 'นพ.สุภกร บัวสาย ผู้จัดการกองทุนเพื่อความเสมอภาคทางการศึกษา (กสศ.) กล่าวว่า เมื่อสัปดาห์ที่ผ่านมา คณะกรรมการบริหาร กสศ. ได้มีการประชุมพิจารณามาตรการพิเศษเพื่อช่วยลดผลกระทบให้แก่นักเรียนทุนเสมอภาคกลุ่มช่วงชั้นรอยต่อ ได้แก่ อนุบาล 3, ป.6, ม.3 และ ม.6 เฉพาะสังกัด บก.ตชด. ซึ่งมีค่าใช้จ่ายในช่วงเปิดเทอมค่อนข้างสูง เนื่องจากต้องเปลี่ยนสถานศึกษา และมีความเ...',\n",
       "  'DATE': '2021-04-28'},\n",
       " {'title': 'เปิดตัว iSEE 2.0 ก้าวใหม่ของนวัตกรรมลดความเหลื่อมล้ำทางการศึกษา เอกซเรย์เด็กด้อยโอกาสทั่วไทยไม่ตกหล่น',\n",
       "  'detail': 'กองทุนเพื่อความเสมอภาคทางการศึกษา (กสศ.) ได้เปิดตัวนวัตกรรมสร้างความเสมอภาคทางการศึกษา หรือระบบ iSEE 2.0 (Information System for Equitible Education) ตั้งเป้าให้ทุกคน ‘มองเห็น’ สถานการณ์ความเหลื่อมล้ำได้ชัดเจนมากขึ้น เพื่อเป็นจุดเริ่มต้นในการบูรณาการแก้ปัญหาและสร้างความเสมอภาคทางการศึกษาอย่างมีประสิทธิภาพ\\n\\xa0\\niSEE คือฐานข้อมูลขนาดใหญ่ที่รว...',\n",
       "  'DATE': '2020-07-30'},\n",
       " {'title': 'บอร์ด กสศ. อนุมัติเงินกว่า 2 พันล้านบาท ช่วยเหลือค่าครองชีพเด็ก และแรงงานด้อยโอกาสกว่า 7.5 แสนคนในวิกฤตโควิด-19',\n",
       "  'detail': 'บอร์ด กสศ. อนุมัติมาตรการช่วยเหลือเด็ก เยาวชน แรงงานด้อยโอกาส กว่า 7.5 แสนคน ดร.ประสาร ไตรรัตน์วรกุล ระบุภาวะโภชนาการคือปัญหาจำเป็นเร่งด่วนของเด็กยากจนเมื่อต้องปิดเทอมนานขึ้น พร้อมเพิ่มเงินช่วยเหลือฉุกเฉินเป็นค่าอาหาร ค่าครองชีพ ให้นักเรียนยากจนพิเศษ 300 ล้านบาท และเลื่อนการจ่ายเงินทุนเสมอภาคให้เร็วยิ่งขึ้น เพื่อป้องกันเด็กหลุดออกนอกระบบ\\n\\xa0\\r...',\n",
       "  'DATE': '2020-01-05'},\n",
       " {'title': 'กสศ. กับภารกิจหยุดยั้งเด็กกว่า 7 แสนราย ไม่ให้หลุดออกนอกระบบการศึกษา จากผลกระทบโควิด-19',\n",
       "  'detail': 'จากสถานการณ์การแพร่ระบาดของโรคโควิด-19 ในประเทศไทยที่มีแนวโน้มเพิ่มสูงขึ้นเรื่อยๆ นอกเหนือจากผลกระทบทางสุขภาพของคนไทยแล้ว อีกผลกระทบที่เกิดขึ้นในช่วงเวลานี้คือ เด็กๆ ด้อยโอกาสที่ครอบครัวมีฐานะยากจนจำนวนมากกำลังจะต้องออกจากระบบการศึกษา เนื่องจากครอบครัวส่วนใหญ่สูญเสียรายได้ ไม่มีงานทำ สุดท้ายตัวเลขของเด็กที่ต้องออกจากระบบการศึกษาก็จะกลายเป็นปัญหาในร...',\n",
       "  'DATE': '2020-03-30'},\n",
       " {'title': 'iSEE เครื่องมือ ‘มองหา’ เด็กด้อยโอกาสทางการศึกษา เพื่อให้ทุกคน ‘มองเห็น’ โอกาสมอบการศึกษาเป็นของขวัญ',\n",
       "  'detail': '‘เด็กไทยกว่า 2,000,000 คน เสี่ยงหลุดออกจากระบบการศึกษา’ นี่คือข้อเท็จจริงที่กองทุนเพื่อความเสมอภาคทางการศึกษา (กสศ.) ค้นพบ แม้ว่าจะเริ่มต้นสื่อสารไปสู่สังคมผ่านโครงการ ‘จดหมายลาครู’ เมื่อต้นปีที่ผ่านมา ด้วยการนำระบบสารสนเทศเพื่อความเสมอภาคทางการศึกษา (Information System for Equitable Education: iSEE) ซึ่งเป็น Big Data ขนาดใหญ่มาช่วยค้นหา\\xa0\\n&...',\n",
       "  'DATE': '2019-12-20'},\n",
       " {'title': '‘โครงการจดหมายลาครู’ เครื่องมือ ‘ค้นหา’ เด็กด้อยโอกาสทางการศึกษาที่เกือบจะไม่มีใคร ‘มองเห็น’ ให้พวกเขาได้เห็นอนาคตตัวเองอีกครั้ง',\n",
       "  'detail': '“จำนวนเด็กยากจนพิเศษและเด็กยากจนทั่วไปตอนนี้ในประเทศไทยมีประมาณ 1.7 ล้านคน นี่เป็นตัวเลขจาก สพฐ. อย่างเดียว ถ้ารวมสังกัด ตชด. อปท. ตัวเลขอาจไปแตะที่ 2 ล้านคนทั่วประเทศ ในจำนวนนี้มีเด็กยากจนพิเศษอยู่ประมาณ 30%” ดร.ไกรยส ภัทราวาท รองผู้จัดการกองทุนเพื่อความเสมอภาคทางการศึกษา เปิดเผยข้อมูลให้ THE STANDARD ฟัง\\nแต่ตัวเลขข้างต้นอาจเปลี่ยนแปลงไปตามสภาพ...',\n",
       "  'DATE': '2019-07-18'},\n",
       " {'title': 'ตลาดแรงงานปีหน้าจะเป็นเช่นไร? ใครจะช่วย เมื่อคุณภาพการศึกษา-กำลังคนตกต่ำ',\n",
       "  'detail': 'หลายคนอาจจะตั้งคำถามว่าเกิดอะไรขึ้นกับแรงงานหรือคนทำงานไทยที่สถานศึกษาระดับต่างๆ ผลิตขึ้นมาตั้งแต่อดีตถึงปัจจุบัน แต่ไม่สามารถตอบสนองความต้องการในการพัฒนาเศรษฐกิจของประเทศได้อย่างมีประสิทธิภาพ จะให้ได้คำตอบนี้ เราต้องทำความเข้าใจว่าขณะนี้พวกเขากำลังทำอะไรกันอยู่\\n\\xa0\\nคุณภาพการศึกษากับความล้มเหลวในตลาดแรงงาน\\nเมื่อเดือนตุลาคมที่ผ่านมา สำนั...',\n",
       "  'DATE': '2017-12-28'}]"
      ]
     },
     "execution_count": 32,
     "metadata": {},
     "output_type": "execute_result"
    }
   ],
   "source": [
    "data = json.load(fp)\n",
    "data"
   ]
  },
  {
   "cell_type": "code",
   "execution_count": 14,
   "id": "5088362e",
   "metadata": {},
   "outputs": [],
   "source": [
    "#df2 = pd.json_normalize(data)\n",
    "#df2"
   ]
  },
  {
   "cell_type": "markdown",
   "id": "d0fb6df6",
   "metadata": {},
   "source": [
    "### NER (NameEntitiesRegcognition)\n",
    "* extract entity from news description"
   ]
  },
  {
   "cell_type": "code",
   "execution_count": 15,
   "id": "bbfce096",
   "metadata": {},
   "outputs": [],
   "source": [
    "from transformers import AutoTokenizer, AutoModelForTokenClassification\n",
    "from transformers import pipeline"
   ]
  },
  {
   "cell_type": "code",
   "execution_count": 16,
   "id": "6ca43694",
   "metadata": {},
   "outputs": [
    {
     "data": {
      "application/vnd.jupyter.widget-view+json": {
       "model_id": "6407448b860f47e99caefff6285de427",
       "version_major": 2,
       "version_minor": 0
      },
      "text/plain": [
       "Downloading:   0%|          | 0.00/211 [00:00<?, ?B/s]"
      ]
     },
     "metadata": {},
     "output_type": "display_data"
    },
    {
     "data": {
      "application/vnd.jupyter.widget-view+json": {
       "model_id": "4abfbefea0034f6ca33ecd67d8313cf6",
       "version_major": 2,
       "version_minor": 0
      },
      "text/plain": [
       "Downloading:   0%|          | 0.00/980 [00:00<?, ?B/s]"
      ]
     },
     "metadata": {},
     "output_type": "display_data"
    },
    {
     "data": {
      "application/vnd.jupyter.widget-view+json": {
       "model_id": "6faa2c0729da4d1c95725074fc22ce91",
       "version_major": 2,
       "version_minor": 0
      },
      "text/plain": [
       "Downloading:   0%|          | 0.00/5.07M [00:00<?, ?B/s]"
      ]
     },
     "metadata": {},
     "output_type": "display_data"
    },
    {
     "data": {
      "application/vnd.jupyter.widget-view+json": {
       "model_id": "5e854ed253e3424e8944955df4122ab0",
       "version_major": 2,
       "version_minor": 0
      },
      "text/plain": [
       "Downloading:   0%|          | 0.00/150 [00:00<?, ?B/s]"
      ]
     },
     "metadata": {},
     "output_type": "display_data"
    },
    {
     "data": {
      "application/vnd.jupyter.widget-view+json": {
       "model_id": "ee840e6ef50a41328dd2ad697633d4e9",
       "version_major": 2,
       "version_minor": 0
      },
      "text/plain": [
       "Downloading:   0%|          | 0.00/1.11G [00:00<?, ?B/s]"
      ]
     },
     "metadata": {},
     "output_type": "display_data"
    }
   ],
   "source": [
    "tokenizer = AutoTokenizer.from_pretrained(\"Davlan/xlm-roberta-base-ner-hrl\")\n",
    "model = AutoModelForTokenClassification.from_pretrained(\"Davlan/xlm-roberta-base-ner-hrl\")\n",
    "nlp = pipeline(\"ner\", model=model, tokenizer=tokenizer)"
   ]
  },
  {
   "cell_type": "code",
   "execution_count": 17,
   "id": "2cabefd6",
   "metadata": {},
   "outputs": [
    {
     "name": "stdout",
     "output_type": "stream",
     "text": [
      "[{'entity': 'B-PER', 'score': 0.9993357, 'index': 4, 'word': '▁Wolfgang', 'start': 10, 'end': 19}, {'entity': 'B-LOC', 'score': 0.9990395, 'index': 9, 'word': '▁Berlin', 'start': 33, 'end': 40}]\n"
     ]
    }
   ],
   "source": [
    "example = \"My name is Wolfgang and I live in Berlin\"\n",
    "\n",
    "ner_results = nlp(example)\n",
    "print(ner_results)"
   ]
  },
  {
   "cell_type": "code",
   "execution_count": 36,
   "id": "d6a7261a",
   "metadata": {},
   "outputs": [],
   "source": [
    "def post_process(preds):\n",
    "    data = []\n",
    "    for i in range(len(preds)): \n",
    "        a = preds[i]\n",
    "        text = a.get('word')\n",
    "        for j in range(i, len(preds)):\n",
    "            b = preds[j]\n",
    "            if b.get('start') == a.get('end'):\n",
    "                text += b.get('word')\n",
    "                a = b\n",
    "        data.append({\n",
    "            'type': a.get('entity'),\n",
    "            'text': text\n",
    "        })\n",
    "    tmp = []\n",
    "    for elm in data:\n",
    "        text = elm.get('text')\n",
    "        if bool(re.match(\"[ก-๛]|▁\", text)):\n",
    "            elm.update({'text': text.replace('▁', ' ')})\n",
    "            tmp.append(elm)\n",
    "    return tmp"
   ]
  },
  {
   "cell_type": "code",
   "execution_count": 46,
   "id": "7e743e8f",
   "metadata": {},
   "outputs": [
    {
     "data": {
      "text/plain": [
       "'วานนี้ (6 กันยายน) ที่ชุมชนโรงหวาย เขตสวนหลวง ศานนท์ หวังสร้างบุญ รองผู้ว่าราชการกรุงเทพมหานคร พร้อมด้วย ไกรยส ภัทราวาท ผู้จัดการกองทุนเพื่อความเสมอภาคทางการศึกษา (กสศ.) ปิยะวรรณ จระกา สมาชิกสภากรุงเทพมหานคร (ส.ก.) เขตสวนหลวง ผู้บริหารสำนักการศึกษา และผู้เกี่ยวข้องร่วมลงพื้นที่เพื่อค้นหาเด็กยากจนพิเศษในชุมชนที่มีความเสี่ยงหลุดจากระบบการศึกษา เพื่อล...'"
      ]
     },
     "execution_count": 46,
     "metadata": {},
     "output_type": "execute_result"
    }
   ],
   "source": [
    "text = data[0]['detail']\n",
    "text"
   ]
  },
  {
   "cell_type": "code",
   "execution_count": 47,
   "id": "39264b43",
   "metadata": {
    "tags": []
   },
   "outputs": [
    {
     "data": {
      "text/plain": [
       "[{'entity': 'B-LOC',\n",
       "  'score': 0.97698975,\n",
       "  'index': 8,\n",
       "  'word': 'ชุมชน',\n",
       "  'start': 22,\n",
       "  'end': 27},\n",
       " {'entity': 'I-LOC',\n",
       "  'score': 0.68145823,\n",
       "  'index': 9,\n",
       "  'word': 'โรง',\n",
       "  'start': 27,\n",
       "  'end': 30},\n",
       " {'entity': 'I-LOC',\n",
       "  'score': 0.9991392,\n",
       "  'index': 10,\n",
       "  'word': 'ห',\n",
       "  'start': 30,\n",
       "  'end': 31},\n",
       " {'entity': 'I-LOC',\n",
       "  'score': 0.9987367,\n",
       "  'index': 11,\n",
       "  'word': 'วาย',\n",
       "  'start': 31,\n",
       "  'end': 34},\n",
       " {'entity': 'B-LOC',\n",
       "  'score': 0.9906929,\n",
       "  'index': 13,\n",
       "  'word': 'สวน',\n",
       "  'start': 38,\n",
       "  'end': 41},\n",
       " {'entity': 'I-LOC',\n",
       "  'score': 0.99921227,\n",
       "  'index': 14,\n",
       "  'word': 'หลวง',\n",
       "  'start': 41,\n",
       "  'end': 45},\n",
       " {'entity': 'B-PER',\n",
       "  'score': 0.94333845,\n",
       "  'index': 15,\n",
       "  'word': '▁',\n",
       "  'start': 45,\n",
       "  'end': 46},\n",
       " {'entity': 'B-PER',\n",
       "  'score': 0.92735034,\n",
       "  'index': 16,\n",
       "  'word': 'ศ',\n",
       "  'start': 46,\n",
       "  'end': 47},\n",
       " {'entity': 'B-PER',\n",
       "  'score': 0.5078819,\n",
       "  'index': 17,\n",
       "  'word': 'านนท์',\n",
       "  'start': 47,\n",
       "  'end': 52},\n",
       " {'entity': 'I-PER',\n",
       "  'score': 0.7581843,\n",
       "  'index': 18,\n",
       "  'word': '▁',\n",
       "  'start': 52,\n",
       "  'end': 53},\n",
       " {'entity': 'I-PER',\n",
       "  'score': 0.88057053,\n",
       "  'index': 19,\n",
       "  'word': 'หวัง',\n",
       "  'start': 53,\n",
       "  'end': 57},\n",
       " {'entity': 'I-PER',\n",
       "  'score': 0.9975854,\n",
       "  'index': 20,\n",
       "  'word': 'สร้าง',\n",
       "  'start': 57,\n",
       "  'end': 62},\n",
       " {'entity': 'I-PER',\n",
       "  'score': 0.9926488,\n",
       "  'index': 21,\n",
       "  'word': 'บุญ',\n",
       "  'start': 62,\n",
       "  'end': 65},\n",
       " {'entity': 'B-LOC',\n",
       "  'score': 0.99880326,\n",
       "  'index': 26,\n",
       "  'word': 'กรุงเทพมหานคร',\n",
       "  'start': 81,\n",
       "  'end': 94},\n",
       " {'entity': 'B-PER',\n",
       "  'score': 0.9997681,\n",
       "  'index': 29,\n",
       "  'word': '▁',\n",
       "  'start': 104,\n",
       "  'end': 105},\n",
       " {'entity': 'B-PER',\n",
       "  'score': 0.99882954,\n",
       "  'index': 30,\n",
       "  'word': 'ไ',\n",
       "  'start': 105,\n",
       "  'end': 106},\n",
       " {'entity': 'I-PER',\n",
       "  'score': 0.9987155,\n",
       "  'index': 31,\n",
       "  'word': 'กร',\n",
       "  'start': 106,\n",
       "  'end': 108},\n",
       " {'entity': 'I-PER',\n",
       "  'score': 0.99965334,\n",
       "  'index': 32,\n",
       "  'word': 'ย',\n",
       "  'start': 108,\n",
       "  'end': 109},\n",
       " {'entity': 'I-PER',\n",
       "  'score': 0.99955875,\n",
       "  'index': 33,\n",
       "  'word': 'ส',\n",
       "  'start': 109,\n",
       "  'end': 110},\n",
       " {'entity': 'I-PER',\n",
       "  'score': 0.9997589,\n",
       "  'index': 34,\n",
       "  'word': '▁',\n",
       "  'start': 110,\n",
       "  'end': 111},\n",
       " {'entity': 'I-PER',\n",
       "  'score': 0.99928826,\n",
       "  'index': 35,\n",
       "  'word': 'ภัทร',\n",
       "  'start': 111,\n",
       "  'end': 115},\n",
       " {'entity': 'I-PER',\n",
       "  'score': 0.999694,\n",
       "  'index': 36,\n",
       "  'word': 'า',\n",
       "  'start': 115,\n",
       "  'end': 116},\n",
       " {'entity': 'I-PER',\n",
       "  'score': 0.9989717,\n",
       "  'index': 37,\n",
       "  'word': 'วา',\n",
       "  'start': 116,\n",
       "  'end': 118},\n",
       " {'entity': 'I-PER',\n",
       "  'score': 0.9984816,\n",
       "  'index': 38,\n",
       "  'word': 'ท',\n",
       "  'start': 118,\n",
       "  'end': 119},\n",
       " {'entity': 'B-ORG',\n",
       "  'score': 0.999645,\n",
       "  'index': 41,\n",
       "  'word': 'กองทุน',\n",
       "  'start': 129,\n",
       "  'end': 135},\n",
       " {'entity': 'I-ORG',\n",
       "  'score': 0.9998178,\n",
       "  'index': 42,\n",
       "  'word': 'เพื่อ',\n",
       "  'start': 135,\n",
       "  'end': 140},\n",
       " {'entity': 'I-ORG',\n",
       "  'score': 0.9998604,\n",
       "  'index': 43,\n",
       "  'word': 'ความ',\n",
       "  'start': 140,\n",
       "  'end': 144},\n",
       " {'entity': 'I-ORG',\n",
       "  'score': 0.99986076,\n",
       "  'index': 44,\n",
       "  'word': 'เสมอ',\n",
       "  'start': 144,\n",
       "  'end': 148},\n",
       " {'entity': 'I-ORG',\n",
       "  'score': 0.9998634,\n",
       "  'index': 45,\n",
       "  'word': 'ภาค',\n",
       "  'start': 148,\n",
       "  'end': 151},\n",
       " {'entity': 'I-ORG',\n",
       "  'score': 0.99981636,\n",
       "  'index': 46,\n",
       "  'word': 'ทาง',\n",
       "  'start': 151,\n",
       "  'end': 154},\n",
       " {'entity': 'I-ORG',\n",
       "  'score': 0.99975544,\n",
       "  'index': 47,\n",
       "  'word': 'การศึกษา',\n",
       "  'start': 154,\n",
       "  'end': 162},\n",
       " {'entity': 'B-ORG',\n",
       "  'score': 0.99949765,\n",
       "  'index': 49,\n",
       "  'word': 'ก',\n",
       "  'start': 164,\n",
       "  'end': 165},\n",
       " {'entity': 'I-ORG',\n",
       "  'score': 0.99442405,\n",
       "  'index': 50,\n",
       "  'word': 'ส',\n",
       "  'start': 165,\n",
       "  'end': 166},\n",
       " {'entity': 'I-ORG',\n",
       "  'score': 0.99931777,\n",
       "  'index': 51,\n",
       "  'word': 'ศ',\n",
       "  'start': 166,\n",
       "  'end': 167},\n",
       " {'entity': 'I-ORG',\n",
       "  'score': 0.99109405,\n",
       "  'index': 52,\n",
       "  'word': '.',\n",
       "  'start': 167,\n",
       "  'end': 168},\n",
       " {'entity': 'B-PER',\n",
       "  'score': 0.9995098,\n",
       "  'index': 54,\n",
       "  'word': '▁',\n",
       "  'start': 169,\n",
       "  'end': 170},\n",
       " {'entity': 'B-PER',\n",
       "  'score': 0.9990495,\n",
       "  'index': 55,\n",
       "  'word': 'ปิ',\n",
       "  'start': 170,\n",
       "  'end': 172},\n",
       " {'entity': 'I-PER',\n",
       "  'score': 0.9987191,\n",
       "  'index': 56,\n",
       "  'word': 'ยะ',\n",
       "  'start': 172,\n",
       "  'end': 174},\n",
       " {'entity': 'I-PER',\n",
       "  'score': 0.99948007,\n",
       "  'index': 57,\n",
       "  'word': 'วรรณ',\n",
       "  'start': 174,\n",
       "  'end': 178},\n",
       " {'entity': 'I-PER',\n",
       "  'score': 0.9996427,\n",
       "  'index': 58,\n",
       "  'word': '▁จ',\n",
       "  'start': 178,\n",
       "  'end': 180},\n",
       " {'entity': 'I-PER',\n",
       "  'score': 0.99969363,\n",
       "  'index': 59,\n",
       "  'word': 'ระ',\n",
       "  'start': 180,\n",
       "  'end': 182},\n",
       " {'entity': 'I-PER',\n",
       "  'score': 0.999736,\n",
       "  'index': 60,\n",
       "  'word': 'กา',\n",
       "  'start': 182,\n",
       "  'end': 184},\n",
       " {'entity': 'B-ORG',\n",
       "  'score': 0.99881256,\n",
       "  'index': 62,\n",
       "  'word': 'สภา',\n",
       "  'start': 191,\n",
       "  'end': 194},\n",
       " {'entity': 'I-ORG',\n",
       "  'score': 0.99889696,\n",
       "  'index': 63,\n",
       "  'word': 'กรุงเทพมหานคร',\n",
       "  'start': 194,\n",
       "  'end': 207},\n",
       " {'entity': 'B-ORG',\n",
       "  'score': 0.86430305,\n",
       "  'index': 65,\n",
       "  'word': 'ส',\n",
       "  'start': 209,\n",
       "  'end': 210},\n",
       " {'entity': 'I-ORG',\n",
       "  'score': 0.994364,\n",
       "  'index': 66,\n",
       "  'word': '.',\n",
       "  'start': 210,\n",
       "  'end': 211},\n",
       " {'entity': 'I-ORG',\n",
       "  'score': 0.99513227,\n",
       "  'index': 67,\n",
       "  'word': 'ก',\n",
       "  'start': 211,\n",
       "  'end': 212},\n",
       " {'entity': 'I-ORG',\n",
       "  'score': 0.8026755,\n",
       "  'index': 68,\n",
       "  'word': '.',\n",
       "  'start': 212,\n",
       "  'end': 213},\n",
       " {'entity': 'B-LOC',\n",
       "  'score': 0.90246946,\n",
       "  'index': 71,\n",
       "  'word': 'สวน',\n",
       "  'start': 218,\n",
       "  'end': 221},\n",
       " {'entity': 'I-LOC',\n",
       "  'score': 0.9360319,\n",
       "  'index': 72,\n",
       "  'word': 'หลวง',\n",
       "  'start': 221,\n",
       "  'end': 225}]"
      ]
     },
     "execution_count": 47,
     "metadata": {},
     "output_type": "execute_result"
    }
   ],
   "source": [
    "output = nlp(text)\n",
    "output"
   ]
  },
  {
   "cell_type": "code",
   "execution_count": 49,
   "id": "97070008",
   "metadata": {},
   "outputs": [
    {
     "data": {
      "text/plain": [
       "[{'type': 'I-LOC', 'text': 'ชุมชนโรงหวาย'},\n",
       " {'type': 'I-LOC', 'text': 'โรงหวาย'},\n",
       " {'type': 'I-LOC', 'text': 'หวาย'},\n",
       " {'type': 'I-LOC', 'text': 'วาย'},\n",
       " {'type': 'I-PER', 'text': 'สวนหลวง ศานนท์ หวังสร้างบุญ'},\n",
       " {'type': 'I-PER', 'text': 'หลวง ศานนท์ หวังสร้างบุญ'},\n",
       " {'type': 'I-PER', 'text': ' ศานนท์ หวังสร้างบุญ'},\n",
       " {'type': 'I-PER', 'text': 'ศานนท์ หวังสร้างบุญ'},\n",
       " {'type': 'I-PER', 'text': 'านนท์ หวังสร้างบุญ'},\n",
       " {'type': 'I-PER', 'text': ' หวังสร้างบุญ'},\n",
       " {'type': 'I-PER', 'text': 'หวังสร้างบุญ'},\n",
       " {'type': 'I-PER', 'text': 'สร้างบุญ'},\n",
       " {'type': 'I-PER', 'text': 'บุญ'},\n",
       " {'type': 'B-LOC', 'text': 'กรุงเทพมหานคร'},\n",
       " {'type': 'I-PER', 'text': ' ไกรยส ภัทราวาท'},\n",
       " {'type': 'I-PER', 'text': 'ไกรยส ภัทราวาท'},\n",
       " {'type': 'I-PER', 'text': 'กรยส ภัทราวาท'},\n",
       " {'type': 'I-PER', 'text': 'ยส ภัทราวาท'},\n",
       " {'type': 'I-PER', 'text': 'ส ภัทราวาท'},\n",
       " {'type': 'I-PER', 'text': ' ภัทราวาท'},\n",
       " {'type': 'I-PER', 'text': 'ภัทราวาท'},\n",
       " {'type': 'I-PER', 'text': 'าวาท'},\n",
       " {'type': 'I-PER', 'text': 'วาท'},\n",
       " {'type': 'I-PER', 'text': 'ท'},\n",
       " {'type': 'I-ORG', 'text': 'กองทุนเพื่อความเสมอภาคทางการศึกษา'},\n",
       " {'type': 'I-ORG', 'text': 'เพื่อความเสมอภาคทางการศึกษา'},\n",
       " {'type': 'I-ORG', 'text': 'ความเสมอภาคทางการศึกษา'},\n",
       " {'type': 'I-ORG', 'text': 'เสมอภาคทางการศึกษา'},\n",
       " {'type': 'I-ORG', 'text': 'ภาคทางการศึกษา'},\n",
       " {'type': 'I-ORG', 'text': 'ทางการศึกษา'},\n",
       " {'type': 'I-ORG', 'text': 'การศึกษา'},\n",
       " {'type': 'I-ORG', 'text': 'กสศ.'},\n",
       " {'type': 'I-ORG', 'text': 'สศ.'},\n",
       " {'type': 'I-ORG', 'text': 'ศ.'},\n",
       " {'type': 'I-PER', 'text': ' ปิยะวรรณ จระกา'},\n",
       " {'type': 'I-PER', 'text': 'ปิยะวรรณ จระกา'},\n",
       " {'type': 'I-PER', 'text': 'ยะวรรณ จระกา'},\n",
       " {'type': 'I-PER', 'text': 'วรรณ จระกา'},\n",
       " {'type': 'I-PER', 'text': ' จระกา'},\n",
       " {'type': 'I-PER', 'text': 'ระกา'},\n",
       " {'type': 'I-PER', 'text': 'กา'},\n",
       " {'type': 'I-ORG', 'text': 'สภากรุงเทพมหานคร'},\n",
       " {'type': 'I-ORG', 'text': 'กรุงเทพมหานคร'},\n",
       " {'type': 'I-ORG', 'text': 'ส.ก.'},\n",
       " {'type': 'I-ORG', 'text': 'ก.'},\n",
       " {'type': 'I-LOC', 'text': 'สวนหลวง'},\n",
       " {'type': 'I-LOC', 'text': 'หลวง'}]"
      ]
     },
     "execution_count": 49,
     "metadata": {},
     "output_type": "execute_result"
    }
   ],
   "source": [
    "import re\n",
    "post_process(output)"
   ]
  },
  {
   "cell_type": "markdown",
   "id": "8bdd359c",
   "metadata": {},
   "source": [
    "## Process news to spo"
   ]
  },
  {
   "cell_type": "code",
   "execution_count": 50,
   "id": "928fb315",
   "metadata": {},
   "outputs": [
    {
     "data": {
      "application/vnd.jupyter.widget-view+json": {
       "model_id": "3f56984716d6444092d905ac4f91aa4a",
       "version_major": 2,
       "version_minor": 0
      },
      "text/plain": [
       "  0%|          | 0/20 [00:00<?, ?it/s]"
      ]
     },
     "metadata": {},
     "output_type": "display_data"
    }
   ],
   "source": [
    "spo = []\n",
    "for news in tqdm(data):\n",
    "    description = news.get('detail') \n",
    "    if description == None:\n",
    "        continue\n",
    "    ner = nlp(description)\n",
    "    processed = post_process(ner)\n",
    "    for kw in processed:\n",
    "        spo.append({\n",
    "            'subject': news.get('title', \"\"),\n",
    "            'predicate': kw.get('type', \"\"),\n",
    "            'object': kw.get('text', \"\")\n",
    "        })"
   ]
  },
  {
   "cell_type": "code",
   "execution_count": 51,
   "id": "b274db28",
   "metadata": {},
   "outputs": [
    {
     "data": {
      "text/html": [
       "<div>\n",
       "<style scoped>\n",
       "    .dataframe tbody tr th:only-of-type {\n",
       "        vertical-align: middle;\n",
       "    }\n",
       "\n",
       "    .dataframe tbody tr th {\n",
       "        vertical-align: top;\n",
       "    }\n",
       "\n",
       "    .dataframe thead th {\n",
       "        text-align: right;\n",
       "    }\n",
       "</style>\n",
       "<table border=\"1\" class=\"dataframe\">\n",
       "  <thead>\n",
       "    <tr style=\"text-align: right;\">\n",
       "      <th></th>\n",
       "      <th>subject</th>\n",
       "      <th>predicate</th>\n",
       "      <th>object</th>\n",
       "    </tr>\n",
       "  </thead>\n",
       "  <tbody>\n",
       "    <tr>\n",
       "      <th>0</th>\n",
       "      <td>กทม. ค้นหาเด็กยากจนพิเศษ รับทุนการศึกษาจาก กสศ...</td>\n",
       "      <td>LOC</td>\n",
       "      <td>ชุมชนโรงหวาย</td>\n",
       "    </tr>\n",
       "    <tr>\n",
       "      <th>1</th>\n",
       "      <td>กทม. ค้นหาเด็กยากจนพิเศษ รับทุนการศึกษาจาก กสศ...</td>\n",
       "      <td>LOC</td>\n",
       "      <td>โรงหวาย</td>\n",
       "    </tr>\n",
       "    <tr>\n",
       "      <th>2</th>\n",
       "      <td>กทม. ค้นหาเด็กยากจนพิเศษ รับทุนการศึกษาจาก กสศ...</td>\n",
       "      <td>LOC</td>\n",
       "      <td>หวาย</td>\n",
       "    </tr>\n",
       "    <tr>\n",
       "      <th>3</th>\n",
       "      <td>กทม. ค้นหาเด็กยากจนพิเศษ รับทุนการศึกษาจาก กสศ...</td>\n",
       "      <td>LOC</td>\n",
       "      <td>วาย</td>\n",
       "    </tr>\n",
       "    <tr>\n",
       "      <th>4</th>\n",
       "      <td>กทม. ค้นหาเด็กยากจนพิเศษ รับทุนการศึกษาจาก กสศ...</td>\n",
       "      <td>PER</td>\n",
       "      <td>สวนหลวง ศานนท์ หวังสร้างบุญ</td>\n",
       "    </tr>\n",
       "    <tr>\n",
       "      <th>...</th>\n",
       "      <td>...</td>\n",
       "      <td>...</td>\n",
       "      <td>...</td>\n",
       "    </tr>\n",
       "    <tr>\n",
       "      <th>257</th>\n",
       "      <td>‘โครงการจดหมายลาครู’ เครื่องมือ ‘ค้นหา’ เด็กด้...</td>\n",
       "      <td>ORG</td>\n",
       "      <td>ภาคทางการศึกษา</td>\n",
       "    </tr>\n",
       "    <tr>\n",
       "      <th>258</th>\n",
       "      <td>‘โครงการจดหมายลาครู’ เครื่องมือ ‘ค้นหา’ เด็กด้...</td>\n",
       "      <td>ORG</td>\n",
       "      <td>ทางการศึกษา</td>\n",
       "    </tr>\n",
       "    <tr>\n",
       "      <th>259</th>\n",
       "      <td>‘โครงการจดหมายลาครู’ เครื่องมือ ‘ค้นหา’ เด็กด้...</td>\n",
       "      <td>ORG</td>\n",
       "      <td>การศึกษา</td>\n",
       "    </tr>\n",
       "    <tr>\n",
       "      <th>260</th>\n",
       "      <td>‘โครงการจดหมายลาครู’ เครื่องมือ ‘ค้นหา’ เด็กด้...</td>\n",
       "      <td>ORG</td>\n",
       "      <td>THE STANDARD</td>\n",
       "    </tr>\n",
       "    <tr>\n",
       "      <th>261</th>\n",
       "      <td>‘โครงการจดหมายลาครู’ เครื่องมือ ‘ค้นหา’ เด็กด้...</td>\n",
       "      <td>ORG</td>\n",
       "      <td>STANDARD</td>\n",
       "    </tr>\n",
       "  </tbody>\n",
       "</table>\n",
       "<p>262 rows × 3 columns</p>\n",
       "</div>"
      ],
      "text/plain": [
       "                                               subject predicate  \\\n",
       "0    กทม. ค้นหาเด็กยากจนพิเศษ รับทุนการศึกษาจาก กสศ...       LOC   \n",
       "1    กทม. ค้นหาเด็กยากจนพิเศษ รับทุนการศึกษาจาก กสศ...       LOC   \n",
       "2    กทม. ค้นหาเด็กยากจนพิเศษ รับทุนการศึกษาจาก กสศ...       LOC   \n",
       "3    กทม. ค้นหาเด็กยากจนพิเศษ รับทุนการศึกษาจาก กสศ...       LOC   \n",
       "4    กทม. ค้นหาเด็กยากจนพิเศษ รับทุนการศึกษาจาก กสศ...       PER   \n",
       "..                                                 ...       ...   \n",
       "257  ‘โครงการจดหมายลาครู’ เครื่องมือ ‘ค้นหา’ เด็กด้...       ORG   \n",
       "258  ‘โครงการจดหมายลาครู’ เครื่องมือ ‘ค้นหา’ เด็กด้...       ORG   \n",
       "259  ‘โครงการจดหมายลาครู’ เครื่องมือ ‘ค้นหา’ เด็กด้...       ORG   \n",
       "260  ‘โครงการจดหมายลาครู’ เครื่องมือ ‘ค้นหา’ เด็กด้...       ORG   \n",
       "261  ‘โครงการจดหมายลาครู’ เครื่องมือ ‘ค้นหา’ เด็กด้...       ORG   \n",
       "\n",
       "                          object  \n",
       "0                   ชุมชนโรงหวาย  \n",
       "1                        โรงหวาย  \n",
       "2                           หวาย  \n",
       "3                            วาย  \n",
       "4    สวนหลวง ศานนท์ หวังสร้างบุญ  \n",
       "..                           ...  \n",
       "257               ภาคทางการศึกษา  \n",
       "258                  ทางการศึกษา  \n",
       "259                     การศึกษา  \n",
       "260                 THE STANDARD  \n",
       "261                     STANDARD  \n",
       "\n",
       "[262 rows x 3 columns]"
      ]
     },
     "execution_count": 51,
     "metadata": {},
     "output_type": "execute_result"
    }
   ],
   "source": [
    "df = pd.DataFrame(spo)\n",
    "df['predicate'] = df['predicate'].apply(lambda x: x[2:])\n",
    "df"
   ]
  },
  {
   "cell_type": "markdown",
   "id": "999626bb",
   "metadata": {},
   "source": [
    "### write DataNode to DataPlatform"
   ]
  },
  {
   "cell_type": "code",
   "execution_count": null,
   "id": "98d90193",
   "metadata": {},
   "outputs": [],
   "source": [
    "datanode.write(df=df, directory=dir_process_id, name=\"Analysis_News_1\", profiling=True, lineage=[datanode.get_file_id(directory_id=dir_raw_id, name='news.json')])"
   ]
  }
 ],
 "metadata": {
  "kernelspec": {
   "display_name": "Python 3 (ipykernel)",
   "language": "python",
   "name": "python3"
  },
  "language_info": {
   "codemirror_mode": {
    "name": "ipython",
    "version": 3
   },
   "file_extension": ".py",
   "mimetype": "text/x-python",
   "name": "python",
   "nbconvert_exporter": "python",
   "pygments_lexer": "ipython3",
   "version": "3.10.5"
  }
 },
 "nbformat": 4,
 "nbformat_minor": 5
}

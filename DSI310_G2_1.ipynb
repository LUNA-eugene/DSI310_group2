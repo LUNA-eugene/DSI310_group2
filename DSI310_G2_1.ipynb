{
 "cells": [
  {
   "cell_type": "code",
   "execution_count": 2,
   "id": "a0fe9d8b",
   "metadata": {},
   "outputs": [],
   "source": [
    "import pandas as pd\n",
    "import bs4\n",
    "import requests\n",
    "import openpyxl"
   ]
  },
  {
   "cell_type": "markdown",
   "id": "c6d04caa",
   "metadata": {},
   "source": [
    "## Web Scraping - BeautifulSoup\n",
    "web scraping news from **thestandard**"
   ]
  },
  {
   "cell_type": "code",
   "execution_count": 4,
   "id": "1b16998f",
   "metadata": {},
   "outputs": [
    {
     "name": "stdout",
     "output_type": "stream",
     "text": [
      "Complete page number:  1\n",
      "Complete page number:  2\n"
     ]
    }
   ],
   "source": [
    "i_page = 1\n",
    "title_list = []\n",
    "date_list = []\n",
    "detail_list = []\n",
    "\n",
    "while i_page <= 2:\n",
    "  data = requests.get(f'https://thestandard.co/page/{i_page}/?s=%E0%B9%80%E0%B8%94%E0%B9%87%E0%B8%81%E0%B8%AB%E0%B8%A5%E0%B8%B8%E0%B8%94&search')\n",
    "  soup = bs4.BeautifulSoup(data.text)\n",
    "  for c in soup.find_all('div', class_='col-md-8'):\n",
    "    title_list.append(c.find('h3', class_= 'news-title').find('a').text.strip())\n",
    "    date_list.append(c.find('div', class_='date').text.strip())\n",
    "    detail_list.append(c.find('div', class_='desc').text.strip())\n",
    "  print('Complete page number: ',i_page)\n",
    "  i_page += 1"
   ]
  },
  {
   "cell_type": "code",
   "execution_count": null,
   "id": "16ee9f6d",
   "metadata": {},
   "outputs": [],
   "source": [
    "table = pd.DataFrame([title_list,date_list,detail_list]).transpose()\n",
    "table.columns = ['title', 'date', 'detail']\n",
    "#table.set_index('title')\n",
    "\n",
    "#table = table.set_index('title')\n"
   ]
  },
  {
   "cell_type": "markdown",
   "id": "049f9d9b",
   "metadata": {},
   "source": [
    "## Prepare Data"
   ]
  },
  {
   "cell_type": "code",
   "execution_count": null,
   "id": "b7359310",
   "metadata": {},
   "outputs": [],
   "source": [
    "table.columns\n",
    "#check data type\n",
    "table.dtypes\n",
    "#check missing values\n",
    "table.isna().sum().sort_values(ascending = False)"
   ]
  },
  {
   "cell_type": "code",
   "execution_count": 92,
   "id": "ae6bdad5",
   "metadata": {},
   "outputs": [],
   "source": [
    "table['date_split'] = table['date'].str.split('\\s')"
   ]
  },
  {
   "cell_type": "code",
   "execution_count": 93,
   "id": "23a0b602",
   "metadata": {},
   "outputs": [],
   "source": [
    "table['D'] = table['date_split'].str[0]\n",
    "table['M'] = table['date_split'].str[1]\n",
    "table['Y']  = table['date_split'].str[2]"
   ]
  },
  {
   "cell_type": "code",
   "execution_count": 94,
   "id": "86f5f0ad",
   "metadata": {},
   "outputs": [
    {
     "data": {
      "text/plain": [
       "array(['กันยายน', 'กุมภาพันธ์', 'สิงหาคม', 'กรกฎาคม', 'เมษายน', 'มกราคม',\n",
       "       'ธันวาคม', 'พฤศจิกายน', 'มิถุนายน', 'พฤษภาคม', 'มีนาคม'],\n",
       "      dtype=object)"
      ]
     },
     "execution_count": 94,
     "metadata": {},
     "output_type": "execute_result"
    }
   ],
   "source": [
    "table['M'].unique()"
   ]
  },
  {
   "cell_type": "code",
   "execution_count": 95,
   "id": "6540a5bb",
   "metadata": {},
   "outputs": [],
   "source": [
    "table['M'].replace({\n",
    "    'มกราคม':'01',\n",
    "    'กุมภาพันธ์':'02',\n",
    "    'มีนาคม' :'03',\n",
    "    'เมษายน':'04',\n",
    "    'พฤษภาคม':'05',\n",
    "     'มิถุนายน':'06',\n",
    "     'กรกฎาคม':'07',\n",
    "    'สิงหาคม':'08',\n",
    "    'กันยายน':'09',\n",
    "    'ตุลาคม':'10',\n",
    "    'พฤศจิกายน':'11',\n",
    "    'ธันวาคม': '12'\n",
    "    }, inplace=True)"
   ]
  },
  {
   "cell_type": "code",
   "execution_count": 104,
   "id": "3c002324",
   "metadata": {},
   "outputs": [],
   "source": [
    "table['DATE'] = table['D']+'-'+table['M']+'-'+table['Y']"
   ]
  },
  {
   "cell_type": "code",
   "execution_count": 110,
   "id": "d20059dc",
   "metadata": {},
   "outputs": [],
   "source": [
    "table['DATE'] = pd.to_datetime(table['DATE'])"
   ]
  },
  {
   "cell_type": "code",
   "execution_count": 112,
   "id": "5f95ffbb",
   "metadata": {},
   "outputs": [],
   "source": [
    "table.drop(['date', 'date_split', 'D','M','Y'], axis=1, inplace=True)"
   ]
  },
  {
   "cell_type": "code",
   "execution_count": 117,
   "id": "113ae648",
   "metadata": {},
   "outputs": [
    {
     "name": "stdout",
     "output_type": "stream",
     "text": [
      "<class 'pandas.core.frame.DataFrame'>\n",
      "RangeIndex: 20 entries, 0 to 19\n",
      "Data columns (total 3 columns):\n",
      " #   Column  Non-Null Count  Dtype         \n",
      "---  ------  --------------  -----         \n",
      " 0   title   20 non-null     object        \n",
      " 1   detail  20 non-null     object        \n",
      " 2   DATE    20 non-null     datetime64[ns]\n",
      "dtypes: datetime64[ns](1), object(2)\n",
      "memory usage: 608.0+ bytes\n"
     ]
    }
   ],
   "source": [
    "table.info()"
   ]
  },
  {
   "cell_type": "code",
   "execution_count": 113,
   "id": "a683aade",
   "metadata": {},
   "outputs": [
    {
     "data": {
      "text/html": [
       "<div>\n",
       "<style scoped>\n",
       "    .dataframe tbody tr th:only-of-type {\n",
       "        vertical-align: middle;\n",
       "    }\n",
       "\n",
       "    .dataframe tbody tr th {\n",
       "        vertical-align: top;\n",
       "    }\n",
       "\n",
       "    .dataframe thead th {\n",
       "        text-align: right;\n",
       "    }\n",
       "</style>\n",
       "<table border=\"1\" class=\"dataframe\">\n",
       "  <thead>\n",
       "    <tr style=\"text-align: right;\">\n",
       "      <th></th>\n",
       "      <th>title</th>\n",
       "      <th>detail</th>\n",
       "      <th>DATE</th>\n",
       "    </tr>\n",
       "  </thead>\n",
       "  <tbody>\n",
       "    <tr>\n",
       "      <th>0</th>\n",
       "      <td>กทม. ค้นหาเด็กยากจนพิเศษ รับทุนการศึกษาจาก กสศ...</td>\n",
       "      <td>วานนี้ (6 กันยายน) ที่ชุมชนโรงหวาย เขตสวนหลวง ...</td>\n",
       "      <td>2022-07-09</td>\n",
       "    </tr>\n",
       "    <tr>\n",
       "      <th>1</th>\n",
       "      <td>เด็กทุกคนต้องได้เรียน! ‘แสนสิริ’ ออกหุ้นกู้ 10...</td>\n",
       "      <td>ในปี 2565 ‘แสนสิริ’ มีพันธกิจใหญ่ โดยมีเป้าหมา...</td>\n",
       "      <td>2022-03-02</td>\n",
       "    </tr>\n",
       "    <tr>\n",
       "      <th>2</th>\n",
       "      <td>เจาะข้อมูล ‘เด็กหลุดจากระบบการศึกษา’ เมื่อป้าย...</td>\n",
       "      <td>กลายเป็นภาพที่ถูกแชร์กันในโลกออนไลน์เป็นวงกว้า...</td>\n",
       "      <td>2021-07-09</td>\n",
       "    </tr>\n",
       "    <tr>\n",
       "      <th>3</th>\n",
       "      <td>ศูนย์นโยบายไทยสร้างไทย จี้รัฐบาลแก้ปัญหาสินค้า...</td>\n",
       "      <td>วันนี้ (9 สิงหาคม) ธิดารัตน์ ยิ่งเจริญ ผู้อำนว...</td>\n",
       "      <td>2021-09-08</td>\n",
       "    </tr>\n",
       "    <tr>\n",
       "      <th>4</th>\n",
       "      <td>Learn to Earn: เผชิญโจทย์โลกยุคใหม่ มุ่งให้การ...</td>\n",
       "      <td>ลำพังการศึกษา (Education) อาจไม่เพียงพอต่อการเ...</td>\n",
       "      <td>2022-07-14</td>\n",
       "    </tr>\n",
       "    <tr>\n",
       "      <th>5</th>\n",
       "      <td>ชัชชาติ ลงพื้นที่เขตราษฎร์บูรณะ-ทุ่งครุ เปิดแผ...</td>\n",
       "      <td>วันนี้ (7 เมษายน) ชัชชาติ สิทธิพันธุ์ ผู้สมัคร...</td>\n",
       "      <td>2022-07-04</td>\n",
       "    </tr>\n",
       "    <tr>\n",
       "      <th>6</th>\n",
       "      <td>‘กลุ่มนักเรียนเลว’ แสดงออกเชิงสัญลักษณ์วันครู ...</td>\n",
       "      <td>ช่วงเช้าวันนี้ (16 มกราคม) ที่สำนักงานเลขาธิกา...</td>\n",
       "      <td>2022-01-16</td>\n",
       "    </tr>\n",
       "    <tr>\n",
       "      <th>7</th>\n",
       "      <td>กสศ. เปิดผลการดำเนินงาน 2564 พบปัญหาโควิดซ้ำเต...</td>\n",
       "      <td>วันที่ 27 ธันวาคม 2564 กองทุนเพื่อความเสมอภาคท...</td>\n",
       "      <td>2021-12-28</td>\n",
       "    </tr>\n",
       "    <tr>\n",
       "      <th>8</th>\n",
       "      <td>มองปัญหาความเหลื่อมล้ำไทยในมุมนักธุรกิจและผู้เ...</td>\n",
       "      <td>‘ความเหลื่อมล้ำ’ ถือเป็นปัญหาสำคัญของประชาชนไท...</td>\n",
       "      <td>2021-11-28</td>\n",
       "    </tr>\n",
       "    <tr>\n",
       "      <th>9</th>\n",
       "      <td>สำนักเลขาธิการนายกฯ ยินดีส่งต่อมือถือเก่าผู้บร...</td>\n",
       "      <td>จากกรณีมีการเผยแพร่เอกสารสัญญาซื้อขายโทรศัพท์ย...</td>\n",
       "      <td>2021-11-24</td>\n",
       "    </tr>\n",
       "    <tr>\n",
       "      <th>10</th>\n",
       "      <td>เร่งดูแลเยาวชนกลุ่มเปราะบาง ทั้งสุขภาพและทุนเร...</td>\n",
       "      <td>ยอดผู้ติดเชื้อโควิดรายวันของไทยที่ ศบค. รายงาน...</td>\n",
       "      <td>2021-08-27</td>\n",
       "    </tr>\n",
       "    <tr>\n",
       "      <th>11</th>\n",
       "      <td>พิธาเสนอญัตติด่วนด้วยวาจา ยุบ ศบค.-ปรับ ครม. ท...</td>\n",
       "      <td>วานนี้ (1 กรกฎาคม) พิธา ลิ้มเจริญรัตน์ ส.ส. บั...</td>\n",
       "      <td>2021-02-07</td>\n",
       "    </tr>\n",
       "    <tr>\n",
       "      <th>12</th>\n",
       "      <td>พิธาชวน ส.ส. โหวตคว่ำร่างงบฯ ปี 65 ทำสาธารณสุข...</td>\n",
       "      <td>วันนี้ (2 มิถุนายน) พิธา ลิ้มเจริญรัตน์ ส.ส. บ...</td>\n",
       "      <td>2021-02-06</td>\n",
       "    </tr>\n",
       "    <tr>\n",
       "      <th>13</th>\n",
       "      <td>กสศ. ออกมาตรการพิเศษช่วงโควิด-19 ช่วยนักเรียนก...</td>\n",
       "      <td>นพ.สุภกร บัวสาย ผู้จัดการกองทุนเพื่อความเสมอภา...</td>\n",
       "      <td>2021-04-28</td>\n",
       "    </tr>\n",
       "    <tr>\n",
       "      <th>14</th>\n",
       "      <td>เปิดตัว iSEE 2.0 ก้าวใหม่ของนวัตกรรมลดความเหลื...</td>\n",
       "      <td>กองทุนเพื่อความเสมอภาคทางการศึกษา (กสศ.) ได้เป...</td>\n",
       "      <td>2020-07-30</td>\n",
       "    </tr>\n",
       "    <tr>\n",
       "      <th>15</th>\n",
       "      <td>บอร์ด กสศ. อนุมัติเงินกว่า 2 พันล้านบาท ช่วยเห...</td>\n",
       "      <td>บอร์ด กสศ. อนุมัติมาตรการช่วยเหลือเด็ก เยาวชน ...</td>\n",
       "      <td>2020-01-05</td>\n",
       "    </tr>\n",
       "    <tr>\n",
       "      <th>16</th>\n",
       "      <td>กสศ. กับภารกิจหยุดยั้งเด็กกว่า 7 แสนราย ไม่ให้...</td>\n",
       "      <td>จากสถานการณ์การแพร่ระบาดของโรคโควิด-19 ในประเท...</td>\n",
       "      <td>2020-03-30</td>\n",
       "    </tr>\n",
       "    <tr>\n",
       "      <th>17</th>\n",
       "      <td>iSEE เครื่องมือ ‘มองหา’ เด็กด้อยโอกาสทางการศึก...</td>\n",
       "      <td>‘เด็กไทยกว่า 2,000,000 คน เสี่ยงหลุดออกจากระบบ...</td>\n",
       "      <td>2019-12-20</td>\n",
       "    </tr>\n",
       "    <tr>\n",
       "      <th>18</th>\n",
       "      <td>‘โครงการจดหมายลาครู’ เครื่องมือ ‘ค้นหา’ เด็กด้...</td>\n",
       "      <td>“จำนวนเด็กยากจนพิเศษและเด็กยากจนทั่วไปตอนนี้ใน...</td>\n",
       "      <td>2019-07-18</td>\n",
       "    </tr>\n",
       "    <tr>\n",
       "      <th>19</th>\n",
       "      <td>ตลาดแรงงานปีหน้าจะเป็นเช่นไร? ใครจะช่วย เมื่อค...</td>\n",
       "      <td>หลายคนอาจจะตั้งคำถามว่าเกิดอะไรขึ้นกับแรงงานหร...</td>\n",
       "      <td>2017-12-28</td>\n",
       "    </tr>\n",
       "  </tbody>\n",
       "</table>\n",
       "</div>"
      ],
      "text/plain": [
       "                                                title  \\\n",
       "0   กทม. ค้นหาเด็กยากจนพิเศษ รับทุนการศึกษาจาก กสศ...   \n",
       "1   เด็กทุกคนต้องได้เรียน! ‘แสนสิริ’ ออกหุ้นกู้ 10...   \n",
       "2   เจาะข้อมูล ‘เด็กหลุดจากระบบการศึกษา’ เมื่อป้าย...   \n",
       "3   ศูนย์นโยบายไทยสร้างไทย จี้รัฐบาลแก้ปัญหาสินค้า...   \n",
       "4   Learn to Earn: เผชิญโจทย์โลกยุคใหม่ มุ่งให้การ...   \n",
       "5   ชัชชาติ ลงพื้นที่เขตราษฎร์บูรณะ-ทุ่งครุ เปิดแผ...   \n",
       "6   ‘กลุ่มนักเรียนเลว’ แสดงออกเชิงสัญลักษณ์วันครู ...   \n",
       "7   กสศ. เปิดผลการดำเนินงาน 2564 พบปัญหาโควิดซ้ำเต...   \n",
       "8   มองปัญหาความเหลื่อมล้ำไทยในมุมนักธุรกิจและผู้เ...   \n",
       "9   สำนักเลขาธิการนายกฯ ยินดีส่งต่อมือถือเก่าผู้บร...   \n",
       "10  เร่งดูแลเยาวชนกลุ่มเปราะบาง ทั้งสุขภาพและทุนเร...   \n",
       "11  พิธาเสนอญัตติด่วนด้วยวาจา ยุบ ศบค.-ปรับ ครม. ท...   \n",
       "12  พิธาชวน ส.ส. โหวตคว่ำร่างงบฯ ปี 65 ทำสาธารณสุข...   \n",
       "13  กสศ. ออกมาตรการพิเศษช่วงโควิด-19 ช่วยนักเรียนก...   \n",
       "14  เปิดตัว iSEE 2.0 ก้าวใหม่ของนวัตกรรมลดความเหลื...   \n",
       "15  บอร์ด กสศ. อนุมัติเงินกว่า 2 พันล้านบาท ช่วยเห...   \n",
       "16  กสศ. กับภารกิจหยุดยั้งเด็กกว่า 7 แสนราย ไม่ให้...   \n",
       "17  iSEE เครื่องมือ ‘มองหา’ เด็กด้อยโอกาสทางการศึก...   \n",
       "18  ‘โครงการจดหมายลาครู’ เครื่องมือ ‘ค้นหา’ เด็กด้...   \n",
       "19  ตลาดแรงงานปีหน้าจะเป็นเช่นไร? ใครจะช่วย เมื่อค...   \n",
       "\n",
       "                                               detail       DATE  \n",
       "0   วานนี้ (6 กันยายน) ที่ชุมชนโรงหวาย เขตสวนหลวง ... 2022-07-09  \n",
       "1   ในปี 2565 ‘แสนสิริ’ มีพันธกิจใหญ่ โดยมีเป้าหมา... 2022-03-02  \n",
       "2   กลายเป็นภาพที่ถูกแชร์กันในโลกออนไลน์เป็นวงกว้า... 2021-07-09  \n",
       "3   วันนี้ (9 สิงหาคม) ธิดารัตน์ ยิ่งเจริญ ผู้อำนว... 2021-09-08  \n",
       "4   ลำพังการศึกษา (Education) อาจไม่เพียงพอต่อการเ... 2022-07-14  \n",
       "5   วันนี้ (7 เมษายน) ชัชชาติ สิทธิพันธุ์ ผู้สมัคร... 2022-07-04  \n",
       "6   ช่วงเช้าวันนี้ (16 มกราคม) ที่สำนักงานเลขาธิกา... 2022-01-16  \n",
       "7   วันที่ 27 ธันวาคม 2564 กองทุนเพื่อความเสมอภาคท... 2021-12-28  \n",
       "8   ‘ความเหลื่อมล้ำ’ ถือเป็นปัญหาสำคัญของประชาชนไท... 2021-11-28  \n",
       "9   จากกรณีมีการเผยแพร่เอกสารสัญญาซื้อขายโทรศัพท์ย... 2021-11-24  \n",
       "10  ยอดผู้ติดเชื้อโควิดรายวันของไทยที่ ศบค. รายงาน... 2021-08-27  \n",
       "11  วานนี้ (1 กรกฎาคม) พิธา ลิ้มเจริญรัตน์ ส.ส. บั... 2021-02-07  \n",
       "12  วันนี้ (2 มิถุนายน) พิธา ลิ้มเจริญรัตน์ ส.ส. บ... 2021-02-06  \n",
       "13  นพ.สุภกร บัวสาย ผู้จัดการกองทุนเพื่อความเสมอภา... 2021-04-28  \n",
       "14  กองทุนเพื่อความเสมอภาคทางการศึกษา (กสศ.) ได้เป... 2020-07-30  \n",
       "15  บอร์ด กสศ. อนุมัติมาตรการช่วยเหลือเด็ก เยาวชน ... 2020-01-05  \n",
       "16  จากสถานการณ์การแพร่ระบาดของโรคโควิด-19 ในประเท... 2020-03-30  \n",
       "17  ‘เด็กไทยกว่า 2,000,000 คน เสี่ยงหลุดออกจากระบบ... 2019-12-20  \n",
       "18  “จำนวนเด็กยากจนพิเศษและเด็กยากจนทั่วไปตอนนี้ใน... 2019-07-18  \n",
       "19  หลายคนอาจจะตั้งคำถามว่าเกิดอะไรขึ้นกับแรงงานหร... 2017-12-28  "
      ]
     },
     "execution_count": 113,
     "metadata": {},
     "output_type": "execute_result"
    }
   ],
   "source": [
    "table"
   ]
  },
  {
   "cell_type": "code",
   "execution_count": 119,
   "id": "4cdd0459",
   "metadata": {},
   "outputs": [],
   "source": [
    "#table.to_excel('education_data.xlsx', engine='openpyxl')\n",
    "table.to_json('DSI310_G2_News1.json')"
   ]
  },
  {
   "cell_type": "markdown",
   "id": "2e5ab826",
   "metadata": {},
   "source": [
    "# Upload data to DataPlatform"
   ]
  },
  {
   "cell_type": "code",
   "execution_count": 120,
   "id": "8e4b75db",
   "metadata": {},
   "outputs": [
    {
     "ename": "ModuleNotFoundError",
     "evalue": "No module named 'dsmlibrary'",
     "output_type": "error",
     "traceback": [
      "\u001b[1;31m---------------------------------------------------------------------------\u001b[0m",
      "\u001b[1;31mModuleNotFoundError\u001b[0m                       Traceback (most recent call last)",
      "\u001b[1;32m<ipython-input-120-cdd484009953>\u001b[0m in \u001b[0;36m<module>\u001b[1;34m\u001b[0m\n\u001b[1;32m----> 1\u001b[1;33m \u001b[1;32mfrom\u001b[0m \u001b[0mdsmlibrary\u001b[0m\u001b[1;33m.\u001b[0m\u001b[0mdatanode\u001b[0m \u001b[1;32mimport\u001b[0m \u001b[0mDataNode\u001b[0m\u001b[1;33m\u001b[0m\u001b[1;33m\u001b[0m\u001b[0m\n\u001b[0m",
      "\u001b[1;31mModuleNotFoundError\u001b[0m: No module named 'dsmlibrary'"
     ]
    }
   ],
   "source": [
    "from dsmlibrary.datanode import DataNode"
   ]
  },
  {
   "cell_type": "code",
   "execution_count": null,
   "id": "dcde7c7c",
   "metadata": {},
   "outputs": [],
   "source": [
    "dir_raw_id = <YOUR RAW DIR ID>"
   ]
  },
  {
   "cell_type": "code",
   "execution_count": null,
   "id": "4cfcd2f1",
   "metadata": {},
   "outputs": [],
   "source": [
    "datanode = DataNode()"
   ]
  },
  {
   "cell_type": "code",
   "execution_count": null,
   "id": "7d2a89a0",
   "metadata": {},
   "outputs": [],
   "source": [
    "datanode.upload_file(directory_id=dir_raw_id, file_path='DSI310_G2_News1.json')"
   ]
  }
 ],
 "metadata": {
  "kernelspec": {
   "display_name": "Python 3",
   "language": "python",
   "name": "python3"
  },
  "language_info": {
   "codemirror_mode": {
    "name": "ipython",
    "version": 3
   },
   "file_extension": ".py",
   "mimetype": "text/x-python",
   "name": "python",
   "nbconvert_exporter": "python",
   "pygments_lexer": "ipython3",
   "version": "3.8.8"
  }
 },
 "nbformat": 4,
 "nbformat_minor": 5
}

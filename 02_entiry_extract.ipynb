{
 "cells": [
  {
   "cell_type": "markdown",
   "id": "6fccd0e3",
   "metadata": {},
   "source": [
    "# 02_entiry-extract\n",
    "* entity extraction from news description using trasnformer Davlan/xlm-roberta-base-ner-hrl"
   ]
  },
  {
   "cell_type": "markdown",
   "id": "bd2da203",
   "metadata": {},
   "source": [
    "### install extra library"
   ]
  },
  {
   "cell_type": "code",
   "execution_count": null,
   "id": "0531c7cf",
   "metadata": {},
   "outputs": [],
   "source": [
    "!pip install transformers torch\n",
    "!pip install sentencepiece"
   ]
  },
  {
   "cell_type": "markdown",
   "id": "f11932e7",
   "metadata": {},
   "source": [
    "### read stored data from DataPlatform"
   ]
  },
  {
   "cell_type": "code",
   "execution_count": null,
   "id": "91cd9c9b",
   "metadata": {},
   "outputs": [],
   "source": [
    "from dsmlibrary.datanode import DataNode\n",
    "import json\n",
    "from tqdm.auto import tqdm\n",
    "import pandas as pd"
   ]
  },
  {
   "cell_type": "code",
   "execution_count": null,
   "id": "3a3862cc",
   "metadata": {},
   "outputs": [],
   "source": [
    "dir_raw_id = 43\n",
    "dir_process_id = 44"
   ]
  },
  {
   "cell_type": "code",
   "execution_count": null,
   "id": "8f61bf9d",
   "metadata": {},
   "outputs": [],
   "source": [
    "datanode = DataNode()"
   ]
  },
  {
   "cell_type": "code",
   "execution_count": null,
   "id": "1393f5c6",
   "metadata": {},
   "outputs": [],
   "source": [
    "meta, fp = datanode.get_file(datanode.get_file_id(directory_id=dir_raw_id, name='news.json'))\n",
    "meta"
   ]
  },
  {
   "cell_type": "code",
   "execution_count": null,
   "id": "babf3c0c",
   "metadata": {},
   "outputs": [],
   "source": [
    "data = json.load(fp)"
   ]
  },
  {
   "cell_type": "markdown",
   "id": "d0fb6df6",
   "metadata": {},
   "source": [
    "### NER (NameEntitiesRegcognition)\n",
    "* extract entity from news description"
   ]
  },
  {
   "cell_type": "code",
   "execution_count": null,
   "id": "bbfce096",
   "metadata": {},
   "outputs": [],
   "source": [
    "from transformers import AutoTokenizer, AutoModelForTokenClassification\n",
    "from transformers import pipeline"
   ]
  },
  {
   "cell_type": "code",
   "execution_count": null,
   "id": "6ca43694",
   "metadata": {},
   "outputs": [],
   "source": [
    "tokenizer = AutoTokenizer.from_pretrained(\"Davlan/xlm-roberta-base-ner-hrl\")\n",
    "model = AutoModelForTokenClassification.from_pretrained(\"Davlan/xlm-roberta-base-ner-hrl\")\n",
    "nlp = pipeline(\"ner\", model=model, tokenizer=tokenizer)"
   ]
  },
  {
   "cell_type": "code",
   "execution_count": null,
   "id": "2cabefd6",
   "metadata": {},
   "outputs": [],
   "source": [
    "example = \"My name is Wolfgang and I live in Berlin\"\n",
    "\n",
    "ner_results = nlp(example)\n",
    "print(ner_results)"
   ]
  },
  {
   "cell_type": "code",
   "execution_count": null,
   "id": "d6a7261a",
   "metadata": {},
   "outputs": [],
   "source": [
    "def post_process(preds):\n",
    "    data = []\n",
    "    for i in range(len(preds)): \n",
    "        a = preds[i]\n",
    "        text = a.get('word')\n",
    "        for j in range(i, len(preds)):\n",
    "            b = preds[j]\n",
    "            if b.get('start') == a.get('end'):\n",
    "                text += b.get('word')\n",
    "                a = b\n",
    "        data.append({\n",
    "            'type': a.get('entity'),\n",
    "            'text': text\n",
    "        })\n",
    "    tmp = []\n",
    "    for elm in data:\n",
    "        text = elm.get('text')\n",
    "        if bool(re.match(\"[ก-๛]|▁\", text)):\n",
    "            elm.update({'text': text.replace('▁', ' ')})\n",
    "            tmp.append(elm)\n",
    "    return tmp"
   ]
  },
  {
   "cell_type": "code",
   "execution_count": null,
   "id": "7e743e8f",
   "metadata": {},
   "outputs": [],
   "source": [
    "text = data[0]\n",
    "text"
   ]
  },
  {
   "cell_type": "code",
   "execution_count": null,
   "id": "39264b43",
   "metadata": {},
   "outputs": [],
   "source": [
    "output = nlp(text)\n",
    "output"
   ]
  },
  {
   "cell_type": "code",
   "execution_count": null,
   "id": "97070008",
   "metadata": {},
   "outputs": [],
   "source": [
    "post_process(output)"
   ]
  },
  {
   "cell_type": "markdown",
   "id": "8bdd359c",
   "metadata": {},
   "source": [
    "## Process news to spo"
   ]
  },
  {
   "cell_type": "code",
   "execution_count": null,
   "id": "928fb315",
   "metadata": {},
   "outputs": [],
   "source": [
    "spo = []\n",
    "for news in tqdm(data):\n",
    "    description = news.get('detail') \n",
    "    if description == None:\n",
    "        continue\n",
    "    ner = nlp(description)\n",
    "    processed = post_process(ner)\n",
    "    for kw in processed:\n",
    "        spo.append({\n",
    "            'subject': news.get('title', \"\"),\n",
    "            'predicate': kw.get('type', \"\"),\n",
    "            'object': kw.get('text', \"\")\n",
    "        })"
   ]
  },
  {
   "cell_type": "code",
   "execution_count": null,
   "id": "b274db28",
   "metadata": {},
   "outputs": [],
   "source": [
    "df = pd.DataFrame(spo)\n",
    "df['predicate'] = df['predicate'].apply(lambda x: x[2:])\n",
    "df"
   ]
  },
  {
   "cell_type": "markdown",
   "id": "999626bb",
   "metadata": {},
   "source": [
    "### write DataNode to DataPlatform"
   ]
  },
  {
   "cell_type": "code",
   "execution_count": null,
   "id": "98d90193",
   "metadata": {},
   "outputs": [],
   "source": [
    "datanode.write(df=df, directory=dir_process_id, name=\"spo\", profiling=True, lineage=[datanode.get_file_id(directory_id=dir_raw_id, name='news.json')])"
   ]
  },
  {
   "cell_type": "code",
   "execution_count": null,
   "id": "781aa282",
   "metadata": {},
   "outputs": [],
   "source": []
  }
 ],
 "metadata": {
  "kernelspec": {
   "display_name": "Python 3",
   "language": "python",
   "name": "python3"
  },
  "language_info": {
   "codemirror_mode": {
    "name": "ipython",
    "version": 3
   },
   "file_extension": ".py",
   "mimetype": "text/x-python",
   "name": "python",
   "nbconvert_exporter": "python",
   "pygments_lexer": "ipython3",
   "version": "3.8.8"
  }
 },
 "nbformat": 4,
 "nbformat_minor": 5
}

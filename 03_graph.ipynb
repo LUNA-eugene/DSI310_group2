{
 "cells": [
  {
   "cell_type": "markdown",
   "id": "61f87d02",
   "metadata": {},
   "source": [
    "# 03_graph\n",
    "* process news SPO analytics via graph algorithm"
   ]
  },
  {
   "cell_type": "markdown",
   "id": "553d02f0",
   "metadata": {},
   "source": [
    "### install extra library"
   ]
  },
  {
   "cell_type": "code",
   "execution_count": null,
   "id": "6bda0a3a",
   "metadata": {},
   "outputs": [],
   "source": [
    "!pip install networkx"
   ]
  },
  {
   "cell_type": "markdown",
   "id": "072285b5",
   "metadata": {},
   "source": [
    "### read news SPO from DataPlatform"
   ]
  },
  {
   "cell_type": "code",
   "execution_count": null,
   "id": "702021b7",
   "metadata": {},
   "outputs": [],
   "source": [
    "from dsmlibrary.datanode import DataNode\n",
    "from tqdm.auto import tqdm"
   ]
  },
  {
   "cell_type": "code",
   "execution_count": null,
   "id": "5718ce81",
   "metadata": {},
   "outputs": [],
   "source": [
    "datanode = DataNode()"
   ]
  },
  {
   "cell_type": "code",
   "execution_count": null,
   "id": "acdc01c7",
   "metadata": {},
   "outputs": [],
   "source": [
    "dir_process_id = <YOUR PROCESS DIR ID>"
   ]
  },
  {
   "cell_type": "code",
   "execution_count": null,
   "id": "72d9ca74",
   "metadata": {},
   "outputs": [],
   "source": [
    "df = datanode.read_df(datanode.get_file_id(directory_id=dir_process_id, name=\"spo.parquet\"))\n",
    "df"
   ]
  },
  {
   "cell_type": "markdown",
   "id": "a5b2ace1",
   "metadata": {},
   "source": [
    "### prepair graph data"
   ]
  },
  {
   "cell_type": "code",
   "execution_count": null,
   "id": "d5c7a040",
   "metadata": {},
   "outputs": [],
   "source": [
    "graph_data = [(elm.get('subject'), elm.get('object')) for elm in df.to_dict('records')]\n",
    "graph_data"
   ]
  },
  {
   "cell_type": "code",
   "execution_count": null,
   "id": "0f990986",
   "metadata": {},
   "outputs": [],
   "source": [
    "import networkx as nx\n",
    "import numpy as np\n",
    "import matplotlib.pyplot as plt\n",
    "\n",
    "from bokeh.io import output_notebook, show, save\n",
    "from bokeh.models import Range1d, Circle, ColumnDataSource, MultiLine\n",
    "from bokeh.plotting import figure\n",
    "from bokeh.plotting import from_networkx"
   ]
  },
  {
   "cell_type": "code",
   "execution_count": null,
   "id": "0dc91043",
   "metadata": {},
   "outputs": [],
   "source": [
    "output_notebook()"
   ]
  },
  {
   "cell_type": "code",
   "execution_count": null,
   "id": "7ba3beb2",
   "metadata": {},
   "outputs": [],
   "source": [
    "'''\n",
    "use for clear bokeh plot\n",
    "'''\n",
    "# from bokeh.io import curdoc\n",
    "# curdoc().clear()"
   ]
  },
  {
   "cell_type": "code",
   "execution_count": null,
   "id": "016dec21",
   "metadata": {},
   "outputs": [],
   "source": [
    "news_titles = {elm:'name' for elm in list(df['subject'].unique())}\n",
    "news_titles"
   ]
  },
  {
   "cell_type": "code",
   "execution_count": null,
   "id": "e398c4aa",
   "metadata": {},
   "outputs": [],
   "source": [
    "node_colors = {elm:'skyblue' if elm in news_titles else 'yellow' for elm in G.nodes()}\n",
    "node_colors"
   ]
  },
  {
   "cell_type": "code",
   "execution_count": null,
   "id": "dcb4b834",
   "metadata": {},
   "outputs": [],
   "source": [
    "G = nx.Graph(graph_data)\n",
    "G"
   ]
  },
  {
   "cell_type": "code",
   "execution_count": null,
   "id": "04467fc8",
   "metadata": {},
   "outputs": [],
   "source": [
    "# plt.figure(figsize=(16,8))\n",
    "# nx.draw_kamada_kawai(G, node_size=100)\n",
    "# plt.show()"
   ]
  },
  {
   "cell_type": "code",
   "execution_count": null,
   "id": "e7f41d3d",
   "metadata": {},
   "outputs": [],
   "source": [
    "# plt.figure(figsize=(16,8))\n",
    "# nx.draw_spring(G, node_size=100)\n",
    "# plt.show()"
   ]
  },
  {
   "cell_type": "markdown",
   "id": "3e3c5311",
   "metadata": {},
   "source": [
    "### visualize raw data"
   ]
  },
  {
   "cell_type": "code",
   "execution_count": null,
   "id": "115eaefa",
   "metadata": {},
   "outputs": [],
   "source": [
    "title = \"News and NameEntities\"\n",
    "HOVER_TOOLTIPS = [(\"Character\", \"@index\")]\n",
    "nx.set_node_attributes(G, node_colors, 'node_colors')\n",
    "plot = figure(tooltips = HOVER_TOOLTIPS,\n",
    "              tools=\"pan,wheel_zoom,save,reset,hover\", active_scroll='wheel_zoom',\n",
    "            x_range=Range1d(-10.1, 10.1), y_range=Range1d(-10.1, 10.1), title=title,\n",
    "              frame_width=1200, frame_height=800\n",
    " )\n",
    "\n",
    "network_graph = from_networkx(G, nx.kamada_kawai_layout, scale=10, center=(0, 0))\n",
    "network_graph.node_renderer.glyph = Circle(size=15, fill_color='node_colors')\n",
    "network_graph.edge_renderer.glyph = MultiLine(line_alpha=0.5, line_width=1)\n",
    "plot.renderers.append(network_graph)\n",
    "show(plot)"
   ]
  },
  {
   "cell_type": "markdown",
   "id": "b997d093",
   "metadata": {},
   "source": [
    "### Compute betweenness_centrality graph\n"
   ]
  },
  {
   "cell_type": "code",
   "execution_count": null,
   "id": "2153bbb1",
   "metadata": {},
   "outputs": [],
   "source": [
    "def cal_size(val, k=10, k2=1000):\n",
    "    val = val * k * k2\n",
    "    if val > k: \n",
    "        return val\n",
    "    return k"
   ]
  },
  {
   "cell_type": "code",
   "execution_count": null,
   "id": "b75868cf",
   "metadata": {},
   "outputs": [],
   "source": [
    "graph_values = nx.centrality.betweenness.betweenness_centrality(G)\n",
    "node_size = {k:cal_size(v, k=10, k2=1000) for k,v in graph_values.items()}"
   ]
  },
  {
   "cell_type": "code",
   "execution_count": null,
   "id": "32132c4b",
   "metadata": {},
   "outputs": [],
   "source": [
    "title = \"betweenness_centrality\"\n",
    "HOVER_TOOLTIPS = [(\"Character\", \"@index\")]\n",
    "\n",
    "nx.set_node_attributes(G, node_size, 'node_size')\n",
    "nx.set_node_attributes(G, node_colors, 'node_colors')\n",
    "\n",
    "plot = figure(tooltips = HOVER_TOOLTIPS,\n",
    "              tools=\"pan,wheel_zoom,save,reset,hover\", active_scroll='wheel_zoom',\n",
    "            x_range=Range1d(-10.1, 10.1), y_range=Range1d(-10.1, 10.1), title=title,\n",
    "              frame_width=1200, frame_height=800\n",
    ")\n",
    "\n",
    "network_graph = from_networkx(G, nx.kamada_kawai_layout, scale=10, center=(0, 0))\n",
    "network_graph.node_renderer.glyph = Circle(fill_color='node_colors', size='node_size')\n",
    "network_graph.edge_renderer.glyph = MultiLine(line_alpha=0.5, line_width=1)\n",
    "plot.renderers.append(network_graph)\n",
    "show(plot)"
   ]
  },
  {
   "cell_type": "markdown",
   "id": "313f7a0a",
   "metadata": {},
   "source": [
    "### compute eigenvector_centrality"
   ]
  },
  {
   "cell_type": "code",
   "execution_count": null,
   "id": "57541888",
   "metadata": {},
   "outputs": [],
   "source": [
    "graph_values = nx.centrality.eigenvector.eigenvector_centrality(G, max_iter=600)\n",
    "node_size = {k:cal_size(v, k=10, k2=15) for k,v in graph_values.items()}"
   ]
  },
  {
   "cell_type": "code",
   "execution_count": null,
   "id": "7b05086b",
   "metadata": {},
   "outputs": [],
   "source": [
    "title = \"xxx\"\n",
    "HOVER_TOOLTIPS = [(\"Character\", \"@index\")]\n",
    "\n",
    "nx.set_node_attributes(G, node_size, 'node_size') \n",
    "nx.set_node_attributes(G, node_colors, 'node_colors')\n",
    "\n",
    "plot = figure(tooltips = HOVER_TOOLTIPS,\n",
    "              tools=\"pan,wheel_zoom,save,reset,hover\", active_scroll='wheel_zoom',\n",
    "            x_range=Range1d(-10.1, 10.1), y_range=Range1d(-10.1, 10.1), title=title,\n",
    "              frame_width=1200, frame_height=800\n",
    ")\n",
    "\n",
    "network_graph = from_networkx(G, nx.kamada_kawai_layout, scale=10, center=(0, 0))\n",
    "network_graph.node_renderer.glyph = Circle(fill_color='node_colors', size='node_size')\n",
    "network_graph.edge_renderer.glyph = MultiLine(line_alpha=0.5, line_width=1)\n",
    "plot.renderers.append(network_graph)\n",
    "show(plot)"
   ]
  }
 ],
 "metadata": {
  "kernelspec": {
   "display_name": "Python 3",
   "language": "python",
   "name": "python3"
  },
  "language_info": {
   "codemirror_mode": {
    "name": "ipython",
    "version": 3
   },
   "file_extension": ".py",
   "mimetype": "text/x-python",
   "name": "python",
   "nbconvert_exporter": "python",
   "pygments_lexer": "ipython3",
   "version": "3.8.8"
  }
 },
 "nbformat": 4,
 "nbformat_minor": 5
}
